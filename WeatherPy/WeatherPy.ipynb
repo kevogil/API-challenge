{
 "cells": [
  {
   "cell_type": "markdown",
   "metadata": {},
   "source": [
    "# WeatherPy\n",
    "----\n",
    "\n",
    "#### Note\n",
    "* Instructions have been included for each segment. You do not have to follow them exactly, but they are included to help you think through the steps."
   ]
  },
  {
   "cell_type": "code",
   "execution_count": 1,
   "metadata": {
    "scrolled": true
   },
   "outputs": [],
   "source": [
    "# Dependencies and Setup\n",
    "import matplotlib.pyplot as plt\n",
    "import pandas as pd\n",
    "import numpy as np\n",
    "import requests\n",
    "import time\n",
    "from pprint import pprint\n",
    "from scipy.stats import linregress\n",
    "\n",
    "# Import API key\n",
    "from api_keys import weather_api_key\n",
    "\n",
    "# Incorporated citipy to determine city based on latitude and longitude\n",
    "from citipy import citipy\n",
    "\n",
    "# Output File (CSV)\n",
    "# output_data_file = \"output_data/cities.csv\"\n",
    "\n",
    "# Range of latitudes and longitudes\n",
    "lat_range = (-90, 90)\n",
    "lng_range = (-180, 180)"
   ]
  },
  {
   "cell_type": "markdown",
   "metadata": {},
   "source": [
    "## Generate Cities List"
   ]
  },
  {
   "cell_type": "code",
   "execution_count": 2,
   "metadata": {},
   "outputs": [
    {
     "data": {
      "text/plain": [
       "635"
      ]
     },
     "execution_count": 2,
     "metadata": {},
     "output_type": "execute_result"
    }
   ],
   "source": [
    "# List for holding lat_lngs and cities\n",
    "lat_lngs = []\n",
    "cities = []\n",
    "\n",
    "# Create a set of random lat and lng combinations\n",
    "lats = np.random.uniform(lat_range[0], lat_range[1], size=1500)\n",
    "lngs = np.random.uniform(lng_range[0], lng_range[1], size=1500)\n",
    "lat_lngs = zip(lats, lngs)\n",
    "\n",
    "# Identify nearest city for each lat, lng combination\n",
    "for lat_lng in lat_lngs:\n",
    "    city = citipy.nearest_city(lat_lng[0], lat_lng[1]).city_name\n",
    "    \n",
    "    # If the city is unique, then add it to a our cities list\n",
    "    if city not in cities:\n",
    "        cities.append(city)\n",
    "\n",
    "# Print the city count to confirm sufficient count\n",
    "len(cities)"
   ]
  },
  {
   "cell_type": "code",
   "execution_count": 3,
   "metadata": {},
   "outputs": [
    {
     "name": "stdout",
     "output_type": "stream",
     "text": [
      "{'base': 'stations',\n",
      " 'clouds': {'all': 1},\n",
      " 'cod': 200,\n",
      " 'coord': {'lat': 34.0522, 'lon': -118.2437},\n",
      " 'dt': 1627680696,\n",
      " 'id': 5368361,\n",
      " 'main': {'feels_like': 88.9,\n",
      "          'humidity': 46,\n",
      "          'pressure': 1013,\n",
      "          'temp': 87.48,\n",
      "          'temp_max': 108.54,\n",
      "          'temp_min': 68.23},\n",
      " 'name': 'Los Angeles',\n",
      " 'sys': {'country': 'US',\n",
      "         'id': 3694,\n",
      "         'sunrise': 1627650183,\n",
      "         'sunset': 1627700133,\n",
      "         'type': 1},\n",
      " 'timezone': -25200,\n",
      " 'visibility': 10000,\n",
      " 'weather': [{'description': 'clear sky',\n",
      "              'icon': '01d',\n",
      "              'id': 800,\n",
      "              'main': 'Clear'}],\n",
      " 'wind': {'deg': 250, 'speed': 4.61}}\n"
     ]
    }
   ],
   "source": [
    "# Previewing query json\n",
    "test_city = 'los angeles'\n",
    "params = {\n",
    "    'appid': weather_api_key,\n",
    "    'q': test_city,\n",
    "    'units': 'imperial'\n",
    "}\n",
    "\n",
    "base_url = 'https://api.openweathermap.org/data/2.5/weather'\n",
    "\n",
    "test_response = requests.get(base_url, params)\n",
    "test_json = test_response.json()\n",
    "pprint(test_json)"
   ]
  },
  {
   "cell_type": "markdown",
   "metadata": {},
   "source": [
    "### Perform API Calls\n",
    "* Perform a weather check on each city using a series of successive API calls.\n",
    "* Include a print log of each city as it'sbeing processed (with the city number and city name).\n"
   ]
  },
  {
   "cell_type": "code",
   "execution_count": 4,
   "metadata": {},
   "outputs": [
    {
     "name": "stdout",
     "output_type": "stream",
     "text": [
      "Beginning Data Retrieval\n",
      "-----------------------------\n",
      "Processing Record 1 of Set 1 | grand island\n",
      "Processing Record 2 of Set 1 | victoria\n",
      "City not found. Skipping...\n",
      "Processing Record 3 of Set 1 | sao sebastiao\n",
      "Processing Record 4 of Set 1 | dongsheng\n",
      "Processing Record 5 of Set 1 | vaini\n",
      "Processing Record 6 of Set 1 | barrow\n",
      "Processing Record 7 of Set 1 | tura\n",
      "Processing Record 8 of Set 1 | tuatapere\n",
      "Processing Record 9 of Set 1 | hithadhoo\n",
      "Processing Record 10 of Set 1 | nanortalik\n",
      "Processing Record 11 of Set 1 | teacapan\n",
      "Processing Record 12 of Set 1 | san jose\n",
      "Processing Record 13 of Set 1 | punta arenas\n",
      "City not found. Skipping...\n",
      "Processing Record 14 of Set 1 | ushuaia\n",
      "Processing Record 15 of Set 1 | rio grande\n",
      "Processing Record 16 of Set 1 | thompson\n",
      "Processing Record 17 of Set 1 | hualmay\n",
      "City not found. Skipping...\n",
      "Processing Record 18 of Set 1 | albany\n",
      "Processing Record 19 of Set 1 | aquiraz\n",
      "Processing Record 20 of Set 1 | moree\n",
      "Processing Record 21 of Set 1 | timizart\n",
      "Processing Record 22 of Set 1 | avarua\n",
      "Processing Record 23 of Set 1 | manzanillo\n",
      "Processing Record 24 of Set 1 | hofn\n",
      "Processing Record 25 of Set 1 | upernavik\n",
      "Processing Record 26 of Set 1 | mar del plata\n",
      "Processing Record 27 of Set 1 | isangel\n",
      "City not found. Skipping...\n",
      "City not found. Skipping...\n",
      "Processing Record 28 of Set 1 | bethel\n",
      "Processing Record 29 of Set 1 | kapaa\n",
      "Processing Record 30 of Set 1 | yenagoa\n",
      "Processing Record 31 of Set 1 | gubkinskiy\n",
      "Processing Record 32 of Set 1 | pangnirtung\n",
      "Processing Record 33 of Set 1 | tasiilaq\n",
      "Processing Record 34 of Set 1 | rikitea\n",
      "Processing Record 35 of Set 1 | bluff\n",
      "Processing Record 36 of Set 1 | harper\n",
      "Processing Record 37 of Set 1 | tombouctou\n",
      "Processing Record 38 of Set 1 | nanakuli\n",
      "Processing Record 39 of Set 1 | mount isa\n",
      "Processing Record 40 of Set 1 | jumla\n",
      "Processing Record 41 of Set 1 | cape town\n",
      "Processing Record 42 of Set 1 | namibe\n",
      "Processing Record 43 of Set 1 | saint-pierre\n",
      "Processing Record 44 of Set 1 | geraldton\n",
      "Processing Record 45 of Set 1 | port alfred\n",
      "City not found. Skipping...\n",
      "Processing Record 46 of Set 1 | olafsvik\n",
      "Processing Record 47 of Set 1 | watrous\n",
      "Processing Record 48 of Set 1 | alvorada\n",
      "Processing Record 49 of Set 1 | new norfolk\n",
      "Processing Record 50 of Set 1 | chicama\n",
      "Processing Record 1 of Set 2 | khatanga\n",
      "Processing Record 2 of Set 2 | tabas\n",
      "Processing Record 3 of Set 2 | bredasdorp\n",
      "Processing Record 4 of Set 2 | east london\n",
      "Processing Record 5 of Set 2 | cabo san lucas\n",
      "Processing Record 6 of Set 2 | avera\n",
      "Processing Record 7 of Set 2 | portland\n",
      "Processing Record 8 of Set 2 | yellowknife\n",
      "Processing Record 9 of Set 2 | ambilobe\n",
      "Processing Record 10 of Set 2 | port elizabeth\n",
      "Processing Record 11 of Set 2 | busselton\n",
      "Processing Record 12 of Set 2 | salym\n",
      "Processing Record 13 of Set 2 | pevek\n",
      "Processing Record 14 of Set 2 | airai\n",
      "Processing Record 15 of Set 2 | atuona\n",
      "Processing Record 16 of Set 2 | klaksvik\n",
      "Processing Record 17 of Set 2 | nouakchott\n",
      "Processing Record 18 of Set 2 | laguna\n",
      "Processing Record 19 of Set 2 | jamestown\n",
      "Processing Record 20 of Set 2 | mataura\n",
      "Processing Record 21 of Set 2 | castro\n",
      "City not found. Skipping...\n",
      "Processing Record 22 of Set 2 | cumana\n",
      "Processing Record 23 of Set 2 | saint-philippe\n",
      "Processing Record 24 of Set 2 | taoudenni\n",
      "Processing Record 25 of Set 2 | iqaluit\n",
      "Processing Record 26 of Set 2 | ranong\n",
      "Processing Record 27 of Set 2 | tuktoyaktuk\n",
      "Processing Record 28 of Set 2 | orange cove\n",
      "Processing Record 29 of Set 2 | tiksi\n",
      "Processing Record 30 of Set 2 | norman wells\n",
      "Processing Record 31 of Set 2 | pacifica\n",
      "Processing Record 32 of Set 2 | aykhal\n",
      "Processing Record 33 of Set 2 | kavieng\n",
      "Processing Record 34 of Set 2 | tateyama\n",
      "City not found. Skipping...\n",
      "Processing Record 35 of Set 2 | svetlogorsk\n",
      "Processing Record 36 of Set 2 | hobart\n",
      "Processing Record 37 of Set 2 | hermanus\n",
      "Processing Record 38 of Set 2 | port hardy\n",
      "Processing Record 39 of Set 2 | katsuura\n",
      "Processing Record 40 of Set 2 | ryotsu\n",
      "Processing Record 41 of Set 2 | auki\n",
      "City not found. Skipping...\n",
      "Processing Record 42 of Set 2 | osakarovka\n",
      "Processing Record 43 of Set 2 | marzuq\n",
      "Processing Record 44 of Set 2 | tiznit\n",
      "Processing Record 45 of Set 2 | atambua\n",
      "Processing Record 46 of Set 2 | ribeira grande\n",
      "Processing Record 47 of Set 2 | thinadhoo\n",
      "Processing Record 48 of Set 2 | mahebourg\n",
      "Processing Record 49 of Set 2 | kodiak\n",
      "Processing Record 50 of Set 2 | barra do corda\n",
      "Processing Record 1 of Set 3 | la ronge\n",
      "Processing Record 2 of Set 3 | carnarvon\n",
      "Processing Record 3 of Set 3 | vallenar\n",
      "City not found. Skipping...\n",
      "City not found. Skipping...\n",
      "Processing Record 4 of Set 3 | saint george\n",
      "Processing Record 5 of Set 3 | sao filipe\n",
      "Processing Record 6 of Set 3 | buraydah\n",
      "Processing Record 7 of Set 3 | svetlaya\n",
      "Processing Record 8 of Set 3 | sitka\n",
      "Processing Record 9 of Set 3 | longyearbyen\n",
      "Processing Record 10 of Set 3 | dhemaji\n",
      "Processing Record 11 of Set 3 | nemuro\n",
      "Processing Record 12 of Set 3 | nome\n",
      "City not found. Skipping...\n",
      "Processing Record 13 of Set 3 | egvekinot\n",
      "Processing Record 14 of Set 3 | vao\n",
      "Processing Record 15 of Set 3 | constitucion\n",
      "Processing Record 16 of Set 3 | qaanaaq\n",
      "City not found. Skipping...\n",
      "City not found. Skipping...\n",
      "Processing Record 17 of Set 3 | bathsheba\n",
      "Processing Record 18 of Set 3 | fortuna\n",
      "Processing Record 19 of Set 3 | takoradi\n",
      "Processing Record 20 of Set 3 | pontian kecil\n",
      "Processing Record 21 of Set 3 | kembe\n",
      "Processing Record 22 of Set 3 | puerto ayora\n",
      "Processing Record 23 of Set 3 | la plata\n",
      "Processing Record 24 of Set 3 | chimoio\n",
      "Processing Record 25 of Set 3 | butaritari\n",
      "Processing Record 26 of Set 3 | pampierstad\n",
      "Processing Record 27 of Set 3 | nikolskoye\n",
      "Processing Record 28 of Set 3 | lasa\n",
      "Processing Record 29 of Set 3 | banjar\n",
      "Processing Record 30 of Set 3 | chokurdakh\n",
      "Processing Record 31 of Set 3 | champerico\n",
      "City not found. Skipping...\n",
      "Processing Record 32 of Set 3 | pyinmana\n",
      "Processing Record 33 of Set 3 | kloulklubed\n",
      "City not found. Skipping...\n",
      "Processing Record 34 of Set 3 | panzhihua\n",
      "Processing Record 35 of Set 3 | grand gaube\n",
      "Processing Record 36 of Set 3 | yerbogachen\n",
      "Processing Record 37 of Set 3 | chanute\n",
      "Processing Record 38 of Set 3 | smithers\n",
      "Processing Record 39 of Set 3 | jiazi\n",
      "Processing Record 40 of Set 3 | fort nelson\n",
      "Processing Record 41 of Set 3 | garmsar\n",
      "Processing Record 42 of Set 3 | launceston\n",
      "Processing Record 43 of Set 3 | kaitangata\n",
      "Processing Record 44 of Set 3 | camacha\n",
      "Processing Record 45 of Set 3 | petropavlovsk-kamchatskiy\n",
      "Processing Record 46 of Set 3 | ugoofaaru\n",
      "Processing Record 47 of Set 3 | makarov\n",
      "Processing Record 48 of Set 3 | esperance\n",
      "Processing Record 49 of Set 3 | buchanan\n",
      "Processing Record 50 of Set 3 | sur\n",
      "Processing Record 1 of Set 4 | fountain hills\n",
      "Processing Record 2 of Set 4 | green river\n",
      "Processing Record 3 of Set 4 | portel\n",
      "Processing Record 4 of Set 4 | hokitika\n",
      "Processing Record 5 of Set 4 | dunedin\n",
      "Processing Record 6 of Set 4 | uppsala\n",
      "Processing Record 7 of Set 4 | boyolangu\n",
      "Processing Record 8 of Set 4 | abrau-dyurso\n",
      "Processing Record 9 of Set 4 | port-gentil\n",
      "Processing Record 10 of Set 4 | saskylakh\n",
      "Processing Record 11 of Set 4 | east brainerd\n",
      "Processing Record 12 of Set 4 | istanbul\n",
      "Processing Record 13 of Set 4 | morondava\n",
      "Processing Record 14 of Set 4 | dingle\n",
      "Processing Record 15 of Set 4 | ixtapa\n",
      "Processing Record 16 of Set 4 | hamilton\n",
      "Processing Record 17 of Set 4 | langub\n",
      "Processing Record 18 of Set 4 | nova iguacu\n",
      "Processing Record 19 of Set 4 | sechura\n",
      "City not found. Skipping...\n",
      "Processing Record 20 of Set 4 | lima\n",
      "Processing Record 21 of Set 4 | dengzhou\n",
      "Processing Record 22 of Set 4 | darovskoy\n",
      "Processing Record 23 of Set 4 | kiruna\n",
      "Processing Record 24 of Set 4 | pisco\n",
      "City not found. Skipping...\n",
      "Processing Record 25 of Set 4 | kutum\n",
      "Processing Record 26 of Set 4 | laredo\n",
      "Processing Record 27 of Set 4 | lebu\n",
      "Processing Record 28 of Set 4 | dourbali\n",
      "Processing Record 29 of Set 4 | huarmey\n",
      "Processing Record 30 of Set 4 | wajima\n",
      "City not found. Skipping...\n",
      "Processing Record 31 of Set 4 | mhlume\n",
      "City not found. Skipping...\n",
      "Processing Record 32 of Set 4 | tazovskiy\n",
      "Processing Record 33 of Set 4 | labuhan\n",
      "Processing Record 34 of Set 4 | deputatskiy\n",
      "Processing Record 35 of Set 4 | padang\n"
     ]
    },
    {
     "name": "stdout",
     "output_type": "stream",
     "text": [
      "Processing Record 36 of Set 4 | dmanisi\n",
      "Processing Record 37 of Set 4 | palauig\n",
      "Processing Record 38 of Set 4 | verkhnyaya maksakovka\n",
      "Processing Record 39 of Set 4 | ancud\n",
      "Processing Record 40 of Set 4 | puerto quijarro\n",
      "Processing Record 41 of Set 4 | talnakh\n",
      "Processing Record 42 of Set 4 | cherskiy\n",
      "Processing Record 43 of Set 4 | goderich\n",
      "Processing Record 44 of Set 4 | vila franca do campo\n",
      "Processing Record 45 of Set 4 | severo-kurilsk\n",
      "Processing Record 46 of Set 4 | powell river\n",
      "Processing Record 47 of Set 4 | naze\n",
      "Processing Record 48 of Set 4 | torrington\n",
      "City not found. Skipping...\n",
      "Processing Record 49 of Set 4 | rawson\n",
      "Processing Record 50 of Set 4 | iquique\n",
      "City not found. Skipping...\n",
      "Processing Record 1 of Set 5 | presidente medici\n",
      "Processing Record 2 of Set 5 | arraial do cabo\n",
      "Processing Record 3 of Set 5 | hilo\n",
      "Processing Record 4 of Set 5 | alugan\n",
      "Processing Record 5 of Set 5 | rabo de peixe\n",
      "Processing Record 6 of Set 5 | dikson\n",
      "Processing Record 7 of Set 5 | alice springs\n",
      "Processing Record 8 of Set 5 | chibombo\n",
      "Processing Record 9 of Set 5 | bulalacao\n",
      "Processing Record 10 of Set 5 | juba\n",
      "Processing Record 11 of Set 5 | hasaki\n",
      "Processing Record 12 of Set 5 | fort abbas\n",
      "Processing Record 13 of Set 5 | kahului\n",
      "Processing Record 14 of Set 5 | chuy\n",
      "Processing Record 15 of Set 5 | la orilla\n",
      "Processing Record 16 of Set 5 | salisbury\n",
      "Processing Record 17 of Set 5 | phuntsholing\n",
      "Processing Record 18 of Set 5 | moissala\n",
      "Processing Record 19 of Set 5 | pochutla\n",
      "Processing Record 20 of Set 5 | krapivinskiy\n",
      "Processing Record 21 of Set 5 | khandagayty\n",
      "Processing Record 22 of Set 5 | oranjestad\n",
      "City not found. Skipping...\n",
      "Processing Record 23 of Set 5 | georgetown\n",
      "Processing Record 24 of Set 5 | derbent\n",
      "Processing Record 25 of Set 5 | nelson bay\n",
      "Processing Record 26 of Set 5 | adrar\n",
      "Processing Record 27 of Set 5 | pimentel\n",
      "Processing Record 28 of Set 5 | maumere\n",
      "Processing Record 29 of Set 5 | inhambane\n",
      "Processing Record 30 of Set 5 | funtua\n",
      "Processing Record 31 of Set 5 | luderitz\n",
      "Processing Record 32 of Set 5 | srednekolymsk\n",
      "Processing Record 33 of Set 5 | sola\n",
      "Processing Record 34 of Set 5 | joigny\n",
      "Processing Record 35 of Set 5 | honiara\n",
      "Processing Record 36 of Set 5 | marathon\n",
      "Processing Record 37 of Set 5 | port hedland\n",
      "Processing Record 38 of Set 5 | san ramon\n",
      "Processing Record 39 of Set 5 | hailey\n",
      "Processing Record 40 of Set 5 | broome\n",
      "Processing Record 41 of Set 5 | flinders\n",
      "Processing Record 42 of Set 5 | torbay\n",
      "Processing Record 43 of Set 5 | chernyshevskiy\n",
      "Processing Record 44 of Set 5 | moroni\n",
      "Processing Record 45 of Set 5 | sao jose da coroa grande\n",
      "Processing Record 46 of Set 5 | bambous virieux\n",
      "Processing Record 47 of Set 5 | te anau\n",
      "Processing Record 48 of Set 5 | ketchikan\n",
      "Processing Record 49 of Set 5 | riyadh\n",
      "Processing Record 50 of Set 5 | lorengau\n",
      "Processing Record 1 of Set 6 | teguldet\n",
      "City not found. Skipping...\n",
      "Processing Record 2 of Set 6 | ishigaki\n",
      "Processing Record 3 of Set 6 | khandbari\n",
      "Processing Record 4 of Set 6 | lakatoro\n",
      "Processing Record 5 of Set 6 | kruisfontein\n",
      "Processing Record 6 of Set 6 | pakokku\n",
      "Processing Record 7 of Set 6 | pacific grove\n",
      "Processing Record 8 of Set 6 | doha\n",
      "Processing Record 9 of Set 6 | hof\n",
      "Processing Record 10 of Set 6 | axim\n",
      "Processing Record 11 of Set 6 | kiama\n",
      "Processing Record 12 of Set 6 | lokoja\n",
      "Processing Record 13 of Set 6 | tulum\n",
      "Processing Record 14 of Set 6 | ruwi\n",
      "Processing Record 15 of Set 6 | wanaka\n",
      "Processing Record 16 of Set 6 | belyy yar\n",
      "Processing Record 17 of Set 6 | tawang\n",
      "Processing Record 18 of Set 6 | iquitos\n",
      "Processing Record 19 of Set 6 | sterlitamak\n",
      "Processing Record 20 of Set 6 | caravelas\n",
      "Processing Record 21 of Set 6 | lazaro cardenas\n",
      "Processing Record 22 of Set 6 | souillac\n",
      "Processing Record 23 of Set 6 | turukhansk\n",
      "City not found. Skipping...\n",
      "Processing Record 24 of Set 6 | porto tolle\n",
      "Processing Record 25 of Set 6 | anupgarh\n",
      "Processing Record 26 of Set 6 | west wendover\n",
      "Processing Record 27 of Set 6 | winslow\n",
      "Processing Record 28 of Set 6 | tadine\n",
      "Processing Record 29 of Set 6 | constantine\n",
      "Processing Record 30 of Set 6 | asau\n",
      "Processing Record 31 of Set 6 | kalabo\n",
      "Processing Record 32 of Set 6 | sao joao da barra\n",
      "Processing Record 33 of Set 6 | killybegs\n",
      "Processing Record 34 of Set 6 | kudahuvadhoo\n",
      "City not found. Skipping...\n",
      "Processing Record 35 of Set 6 | cockburn town\n",
      "Processing Record 36 of Set 6 | letavertes\n",
      "Processing Record 37 of Set 6 | san cristobal\n",
      "City not found. Skipping...\n",
      "Processing Record 38 of Set 6 | sangar\n",
      "Processing Record 39 of Set 6 | codrington\n",
      "Processing Record 40 of Set 6 | ternate\n",
      "Processing Record 41 of Set 6 | faanui\n",
      "Processing Record 42 of Set 6 | shimoda\n",
      "Processing Record 43 of Set 6 | moosomin\n",
      "Processing Record 44 of Set 6 | waingapu\n",
      "Processing Record 45 of Set 6 | los llanos de aridane\n",
      "Processing Record 46 of Set 6 | misasi\n",
      "Processing Record 47 of Set 6 | leningradskiy\n",
      "Processing Record 48 of Set 6 | tupik\n",
      "Processing Record 49 of Set 6 | umea\n",
      "Processing Record 50 of Set 6 | saquarema\n",
      "Processing Record 1 of Set 7 | yerofey pavlovich\n",
      "Processing Record 2 of Set 7 | stephenville crossing\n",
      "Processing Record 3 of Set 7 | robe\n",
      "Processing Record 4 of Set 7 | sao felix do xingu\n",
      "City not found. Skipping...\n",
      "Processing Record 5 of Set 7 | illapel\n",
      "Processing Record 6 of Set 7 | kiunga\n",
      "Processing Record 7 of Set 7 | saldanha\n",
      "Processing Record 8 of Set 7 | port lincoln\n",
      "Processing Record 9 of Set 7 | carballo\n",
      "City not found. Skipping...\n",
      "Processing Record 10 of Set 7 | hovd\n",
      "Processing Record 11 of Set 7 | hazorasp\n",
      "Processing Record 12 of Set 7 | bengkulu\n",
      "Processing Record 13 of Set 7 | meulaboh\n",
      "Processing Record 14 of Set 7 | whitehorse\n",
      "Processing Record 15 of Set 7 | acajutla\n",
      "Processing Record 16 of Set 7 | ponta do sol\n",
      "Processing Record 17 of Set 7 | terrace\n",
      "Processing Record 18 of Set 7 | zharkovskiy\n",
      "Processing Record 19 of Set 7 | zhanaozen\n",
      "City not found. Skipping...\n",
      "Processing Record 20 of Set 7 | merauke\n",
      "Processing Record 21 of Set 7 | mehamn\n",
      "Processing Record 22 of Set 7 | sao luis de montes belos\n",
      "Processing Record 23 of Set 7 | colac\n",
      "Processing Record 24 of Set 7 | touros\n",
      "Processing Record 25 of Set 7 | provideniya\n",
      "Processing Record 26 of Set 7 | port keats\n",
      "Processing Record 27 of Set 7 | seoul\n",
      "Processing Record 28 of Set 7 | phangnga\n",
      "Processing Record 29 of Set 7 | hopewell\n",
      "Processing Record 30 of Set 7 | ahipara\n",
      "Processing Record 31 of Set 7 | hirara\n",
      "Processing Record 32 of Set 7 | pangai\n",
      "Processing Record 33 of Set 7 | wawa\n",
      "Processing Record 34 of Set 7 | belawan\n",
      "Processing Record 35 of Set 7 | rudnogorsk\n",
      "Processing Record 36 of Set 7 | ankazoabo\n",
      "Processing Record 37 of Set 7 | tual\n",
      "Processing Record 38 of Set 7 | adrian\n",
      "Processing Record 39 of Set 7 | sesheke\n",
      "Processing Record 40 of Set 7 | macau\n",
      "Processing Record 41 of Set 7 | san\n",
      "Processing Record 42 of Set 7 | makurdi\n",
      "Processing Record 43 of Set 7 | atar\n",
      "Processing Record 44 of Set 7 | gronau\n",
      "Processing Record 45 of Set 7 | san andres\n",
      "City not found. Skipping...\n",
      "Processing Record 46 of Set 7 | diffa\n",
      "Processing Record 47 of Set 7 | coquimbo\n",
      "Processing Record 48 of Set 7 | cidreira\n",
      "Processing Record 49 of Set 7 | sorland\n",
      "Processing Record 50 of Set 7 | khash\n",
      "Processing Record 1 of Set 8 | dukat\n",
      "Processing Record 2 of Set 8 | omsukchan\n",
      "Processing Record 3 of Set 8 | lompoc\n",
      "Processing Record 4 of Set 8 | vostok\n",
      "Processing Record 5 of Set 8 | necochea\n",
      "Processing Record 6 of Set 8 | gornyak\n",
      "Processing Record 7 of Set 8 | clyde river\n",
      "Processing Record 8 of Set 8 | cawayan\n",
      "Processing Record 9 of Set 8 | skibotn\n",
      "Processing Record 10 of Set 8 | kangaba\n",
      "Processing Record 11 of Set 8 | dalmatovo\n",
      "Processing Record 12 of Set 8 | flin flon\n",
      "Processing Record 13 of Set 8 | kirakira\n",
      "Processing Record 14 of Set 8 | ballina\n",
      "Processing Record 15 of Set 8 | mumford\n",
      "Processing Record 16 of Set 8 | semirom\n",
      "Processing Record 17 of Set 8 | aquidauana\n",
      "Processing Record 18 of Set 8 | shirokiy\n",
      "Processing Record 19 of Set 8 | chapais\n",
      "Processing Record 20 of Set 8 | macultepec\n",
      "Processing Record 21 of Set 8 | graciano sanchez\n",
      "Processing Record 22 of Set 8 | cabedelo\n",
      "Processing Record 23 of Set 8 | lata\n",
      "Processing Record 24 of Set 8 | vanimo\n",
      "Processing Record 25 of Set 8 | larsnes\n",
      "Processing Record 26 of Set 8 | ulaangom\n"
     ]
    },
    {
     "name": "stdout",
     "output_type": "stream",
     "text": [
      "Processing Record 27 of Set 8 | lixourion\n",
      "Processing Record 28 of Set 8 | mikhaylovka\n",
      "Processing Record 29 of Set 8 | guerrero negro\n",
      "Processing Record 30 of Set 8 | les cayes\n",
      "Processing Record 31 of Set 8 | sicuani\n",
      "Processing Record 32 of Set 8 | gold coast\n",
      "City not found. Skipping...\n",
      "Processing Record 33 of Set 8 | cairns\n",
      "Processing Record 34 of Set 8 | sioux lookout\n",
      "Processing Record 35 of Set 8 | manokwari\n",
      "Processing Record 36 of Set 8 | aksarka\n",
      "Processing Record 37 of Set 8 | akyab\n",
      "Processing Record 38 of Set 8 | khani\n",
      "Processing Record 39 of Set 8 | marsh harbour\n",
      "Processing Record 40 of Set 8 | tahe\n",
      "Processing Record 41 of Set 8 | college\n",
      "Processing Record 42 of Set 8 | zhigansk\n",
      "Processing Record 43 of Set 8 | socorro\n",
      "City not found. Skipping...\n",
      "Processing Record 44 of Set 8 | tagusao\n",
      "Processing Record 45 of Set 8 | soria\n",
      "Processing Record 46 of Set 8 | lillooet\n",
      "Processing Record 47 of Set 8 | katangli\n",
      "Processing Record 48 of Set 8 | murgab\n",
      "Processing Record 49 of Set 8 | salinas\n",
      "Processing Record 50 of Set 8 | hervey bay\n",
      "Processing Record 1 of Set 9 | novo aripuana\n",
      "Processing Record 2 of Set 9 | dickinson\n",
      "Processing Record 3 of Set 9 | wahpeton\n",
      "Processing Record 4 of Set 9 | marystown\n",
      "Processing Record 5 of Set 9 | sao sebastiao do cai\n",
      "Processing Record 6 of Set 9 | westport\n",
      "Processing Record 7 of Set 9 | rayadrug\n",
      "Processing Record 8 of Set 9 | washington\n",
      "Processing Record 9 of Set 9 | shenzhen\n",
      "Processing Record 10 of Set 9 | inirida\n",
      "Processing Record 11 of Set 9 | donauworth\n",
      "Processing Record 12 of Set 9 | tiarei\n",
      "Processing Record 13 of Set 9 | mecca\n",
      "Processing Record 14 of Set 9 | mineros\n",
      "Processing Record 15 of Set 9 | hoquiam\n",
      "City not found. Skipping...\n",
      "Processing Record 16 of Set 9 | kautokeino\n",
      "City not found. Skipping...\n",
      "Processing Record 17 of Set 9 | atherton\n",
      "Processing Record 18 of Set 9 | tigil\n",
      "City not found. Skipping...\n",
      "Processing Record 19 of Set 9 | nedjo\n",
      "Processing Record 20 of Set 9 | fonte boa\n",
      "Processing Record 21 of Set 9 | taltal\n",
      "City not found. Skipping...\n",
      "City not found. Skipping...\n",
      "City not found. Skipping...\n",
      "Processing Record 22 of Set 9 | brae\n",
      "Processing Record 23 of Set 9 | shingu\n",
      "Processing Record 24 of Set 9 | disa\n",
      "Processing Record 25 of Set 9 | colares\n",
      "Processing Record 26 of Set 9 | bellavista\n",
      "Processing Record 27 of Set 9 | kasongo-lunda\n",
      "Processing Record 28 of Set 9 | bonthe\n",
      "Processing Record 29 of Set 9 | henties bay\n",
      "Processing Record 30 of Set 9 | batagay\n",
      "Processing Record 31 of Set 9 | tessalit\n",
      "Processing Record 32 of Set 9 | nova borova\n",
      "Processing Record 33 of Set 9 | mezhgorye\n",
      "Processing Record 34 of Set 9 | zyuzelskiy\n",
      "Processing Record 35 of Set 9 | bowen\n",
      "Processing Record 36 of Set 9 | presidencia roque saenz pena\n",
      "Processing Record 37 of Set 9 | zyryanka\n",
      "Processing Record 38 of Set 9 | shumskiy\n",
      "City not found. Skipping...\n",
      "Processing Record 39 of Set 9 | salinopolis\n",
      "Processing Record 40 of Set 9 | kushmurun\n",
      "Processing Record 41 of Set 9 | raga\n",
      "Processing Record 42 of Set 9 | salvador\n",
      "Processing Record 43 of Set 9 | bubaque\n",
      "Processing Record 44 of Set 9 | vardo\n",
      "Processing Record 45 of Set 9 | kehtna\n",
      "Processing Record 46 of Set 9 | wyndham\n",
      "Processing Record 47 of Set 9 | santa isabel\n",
      "Processing Record 48 of Set 9 | sheboygan\n",
      "Processing Record 49 of Set 9 | benjamin aceval\n",
      "Processing Record 50 of Set 9 | zeya\n",
      "Processing Record 1 of Set 10 | noumea\n",
      "Processing Record 2 of Set 10 | namtsy\n",
      "Processing Record 3 of Set 10 | san patricio\n",
      "Processing Record 4 of Set 10 | ereymentau\n",
      "Processing Record 5 of Set 10 | dzhebariki-khaya\n",
      "Processing Record 6 of Set 10 | evensk\n",
      "Processing Record 7 of Set 10 | eureka\n",
      "Processing Record 8 of Set 10 | manacapuru\n",
      "Processing Record 9 of Set 10 | mahina\n",
      "Processing Record 10 of Set 10 | kununurra\n",
      "Processing Record 11 of Set 10 | prince rupert\n",
      "Processing Record 12 of Set 10 | margate\n",
      "Processing Record 13 of Set 10 | alekseyevsk\n",
      "Processing Record 14 of Set 10 | rundu\n",
      "Processing Record 15 of Set 10 | verkh-usugli\n",
      "Processing Record 16 of Set 10 | tunceli\n",
      "Processing Record 17 of Set 10 | ossora\n",
      "Processing Record 18 of Set 10 | la palma\n",
      "Processing Record 19 of Set 10 | wanning\n",
      "Processing Record 20 of Set 10 | bled\n",
      "Processing Record 21 of Set 10 | mayumba\n",
      "Processing Record 22 of Set 10 | san francisco\n",
      "Processing Record 23 of Set 10 | morahalom\n",
      "Processing Record 24 of Set 10 | yanam\n",
      "Processing Record 25 of Set 10 | severnyy\n",
      "Processing Record 26 of Set 10 | husavik\n",
      "Processing Record 27 of Set 10 | mastic beach\n",
      "City not found. Skipping...\n",
      "Processing Record 28 of Set 10 | tabuk\n",
      "Processing Record 29 of Set 10 | fairview\n",
      "Processing Record 30 of Set 10 | cap-aux-meules\n",
      "Processing Record 31 of Set 10 | bealanana\n",
      "Processing Record 32 of Set 10 | clarence town\n",
      "Processing Record 33 of Set 10 | sandpoint\n",
      "Processing Record 34 of Set 10 | ndele\n",
      "Processing Record 35 of Set 10 | kalengwa\n",
      "Processing Record 36 of Set 10 | itarema\n",
      "Processing Record 37 of Set 10 | chute-aux-outardes\n",
      "Processing Record 38 of Set 10 | toul\n",
      "Processing Record 39 of Set 10 | ngunguru\n",
      "City not found. Skipping...\n",
      "Processing Record 40 of Set 10 | santa isabel do rio negro\n",
      "Processing Record 41 of Set 10 | buenos aires\n",
      "Processing Record 42 of Set 10 | nyurba\n",
      "Processing Record 43 of Set 10 | ilulissat\n",
      "Processing Record 44 of Set 10 | preston\n",
      "Processing Record 45 of Set 10 | oyem\n",
      "Processing Record 46 of Set 10 | karabuk\n",
      "Processing Record 47 of Set 10 | pervomayskoye\n",
      "Processing Record 48 of Set 10 | kaupanger\n",
      "Processing Record 49 of Set 10 | riihimaki\n",
      "Processing Record 50 of Set 10 | republic\n",
      "Processing Record 1 of Set 11 | cabo rojo\n",
      "Processing Record 2 of Set 11 | lakes entrance\n",
      "Processing Record 3 of Set 11 | santa marta de tormes\n",
      "Processing Record 4 of Set 11 | hami\n",
      "Processing Record 5 of Set 11 | galle\n",
      "Processing Record 6 of Set 11 | victoria point\n",
      "City not found. Skipping...\n",
      "Processing Record 7 of Set 11 | aljezur\n",
      "Processing Record 8 of Set 11 | sars\n",
      "Processing Record 9 of Set 11 | santa cruz de tenerife\n",
      "Processing Record 10 of Set 11 | okahandja\n",
      "Processing Record 11 of Set 11 | linhares\n",
      "Processing Record 12 of Set 11 | beyneu\n",
      "Processing Record 13 of Set 11 | le port\n",
      "Processing Record 14 of Set 11 | tezu\n",
      "Processing Record 15 of Set 11 | san quintin\n",
      "Processing Record 16 of Set 11 | charters towers\n",
      "City not found. Skipping...\n",
      "Processing Record 17 of Set 11 | mana\n",
      "Processing Record 18 of Set 11 | krasnoselkup\n",
      "Processing Record 19 of Set 11 | roma\n",
      "Processing Record 20 of Set 11 | lavrentiya\n",
      "Processing Record 21 of Set 11 | pitimbu\n",
      "Processing Record 22 of Set 11 | luena\n",
      "Processing Record 23 of Set 11 | sztum\n",
      "Processing Record 24 of Set 11 | skala\n",
      "Processing Record 25 of Set 11 | miraflores\n",
      "Processing Record 26 of Set 11 | pundaguitan\n",
      "Processing Record 27 of Set 11 | baoshan\n",
      "Processing Record 28 of Set 11 | zaysan\n",
      "Processing Record 29 of Set 11 | berdigestyakh\n",
      "Processing Record 30 of Set 11 | lookan\n",
      "Processing Record 31 of Set 11 | bonavista\n",
      "Processing Record 32 of Set 11 | cap malheureux\n",
      "Processing Record 33 of Set 11 | sobolevo\n",
      "Processing Record 34 of Set 11 | ucluelet\n",
      "Processing Record 35 of Set 11 | boa vista\n",
      "Processing Record 36 of Set 11 | teya\n",
      "Processing Record 37 of Set 11 | marquette\n",
      "Processing Record 38 of Set 11 | acapulco\n",
      "Processing Record 39 of Set 11 | biak\n",
      "Processing Record 40 of Set 11 | port augusta\n",
      "Processing Record 41 of Set 11 | chabahar\n",
      "Processing Record 42 of Set 11 | celestun\n",
      "Processing Record 43 of Set 11 | lubao\n",
      "Processing Record 44 of Set 11 | verkhnyaya inta\n",
      "Processing Record 45 of Set 11 | bandarbeyla\n",
      "Processing Record 46 of Set 11 | vestmanna\n",
      "Processing Record 47 of Set 11 | saint-georges\n",
      "Processing Record 48 of Set 11 | davidson\n",
      "Processing Record 49 of Set 11 | kaeo\n",
      "Processing Record 50 of Set 11 | mnogovershinnyy\n",
      "Processing Record 1 of Set 12 | ambon\n",
      "Processing Record 2 of Set 12 | grindavik\n",
      "Processing Record 3 of Set 12 | praia da vitoria\n",
      "Processing Record 4 of Set 12 | mount gambier\n",
      "Processing Record 5 of Set 12 | sao gabriel da cachoeira\n",
      "Processing Record 6 of Set 12 | muroto\n",
      "Processing Record 7 of Set 12 | hobyo\n",
      "Processing Record 8 of Set 12 | karmaskaly\n",
      "Processing Record 9 of Set 12 | kimbe\n",
      "Processing Record 10 of Set 12 | yoichi\n",
      "City not found. Skipping...\n",
      "Processing Record 11 of Set 12 | nuevo progreso\n"
     ]
    },
    {
     "name": "stdout",
     "output_type": "stream",
     "text": [
      "Processing Record 12 of Set 12 | vila\n",
      "Processing Record 13 of Set 12 | opuwo\n",
      "City not found. Skipping...\n",
      "Processing Record 14 of Set 12 | korem\n",
      "Processing Record 15 of Set 12 | tupelo\n",
      "Processing Record 16 of Set 12 | bognor regis\n",
      "Processing Record 17 of Set 12 | bako\n",
      "Processing Record 18 of Set 12 | muros\n",
      "Processing Record 19 of Set 12 | havre-saint-pierre\n",
      "Processing Record 20 of Set 12 | vila velha\n",
      "Processing Record 21 of Set 12 | leh\n",
      "Processing Record 22 of Set 12 | lampa\n",
      "Processing Record 23 of Set 12 | beruwala\n",
      "Processing Record 24 of Set 12 | raudeberg\n",
      "Processing Record 25 of Set 12 | pustomyty\n",
      "Processing Record 26 of Set 12 | port pirie\n",
      "Processing Record 27 of Set 12 | kerrville\n",
      "Processing Record 28 of Set 12 | lahaina\n",
      "Processing Record 29 of Set 12 | ust-tsilma\n",
      "Processing Record 30 of Set 12 | churintzio\n",
      "Processing Record 31 of Set 12 | ponta delgada\n",
      "Processing Record 32 of Set 12 | faya\n",
      "Processing Record 33 of Set 12 | da nang\n",
      "Processing Record 34 of Set 12 | marapanim\n",
      "City not found. Skipping...\n",
      "Processing Record 35 of Set 12 | seredka\n",
      "Processing Record 36 of Set 12 | paamiut\n",
      "Processing Record 37 of Set 12 | aleksandrov gay\n",
      "Processing Record 38 of Set 12 | samarai\n"
     ]
    }
   ],
   "source": [
    "cities_name = []\n",
    "cities_lat = []\n",
    "cities_lng = []\n",
    "cities_max_temp = []\n",
    "cities_humidity = []\n",
    "cities_cloudiness = []\n",
    "cities_wind_speed = []\n",
    "cities_country = []\n",
    "cities_date = []\n",
    "\n",
    "print('Beginning Data Retrieval')\n",
    "print('-----------------------------')\n",
    "\n",
    "counter = 0\n",
    "set_count = 1\n",
    "\n",
    "for city in cities:\n",
    "    try:\n",
    "        params = {\n",
    "            'appid': weather_api_key,\n",
    "            'q': city,\n",
    "            'units': 'imperial'\n",
    "        }\n",
    "        response = requests.get(base_url, params)\n",
    "        response_json = response.json()\n",
    "        \n",
    "        cities_name.append(response_json['name'])\n",
    "        cities_lat.append(response_json['coord']['lat'])\n",
    "        cities_lng.append(response_json['coord']['lon'])\n",
    "        cities_max_temp.append(response_json['main']['temp_max'])\n",
    "        cities_humidity.append(response_json['main']['humidity'])\n",
    "        cities_cloudiness.append(response_json['clouds']['all'])\n",
    "        cities_wind_speed.append(response_json['wind']['speed'])\n",
    "        cities_country.append(response_json['sys']['country'])\n",
    "        cities_date.append(response_json['dt'])\n",
    "        \n",
    "        counter = counter + 1\n",
    "        \n",
    "        if counter > 50:\n",
    "            set_count = set_count + 1\n",
    "            counter = 1\n",
    "        \n",
    "        print(f\"Processing Record {counter} of Set {set_count} | {city}\")\n",
    "        \n",
    "    except:\n",
    "        print('City not found. Skipping...')"
   ]
  },
  {
   "cell_type": "markdown",
   "metadata": {},
   "source": [
    "### Convert Raw Data to DataFrame\n",
    "* Export the city data into a .csv.\n",
    "* Display the DataFrame"
   ]
  },
  {
   "cell_type": "code",
   "execution_count": 5,
   "metadata": {},
   "outputs": [
    {
     "data": {
      "text/html": [
       "<div>\n",
       "<style scoped>\n",
       "    .dataframe tbody tr th:only-of-type {\n",
       "        vertical-align: middle;\n",
       "    }\n",
       "\n",
       "    .dataframe tbody tr th {\n",
       "        vertical-align: top;\n",
       "    }\n",
       "\n",
       "    .dataframe thead th {\n",
       "        text-align: right;\n",
       "    }\n",
       "</style>\n",
       "<table border=\"1\" class=\"dataframe\">\n",
       "  <thead>\n",
       "    <tr style=\"text-align: right;\">\n",
       "      <th></th>\n",
       "      <th>City</th>\n",
       "      <th>Lat</th>\n",
       "      <th>Lng</th>\n",
       "      <th>Max Temp</th>\n",
       "      <th>Humidity</th>\n",
       "      <th>Cloudiness</th>\n",
       "      <th>Wind Speed</th>\n",
       "      <th>Country</th>\n",
       "      <th>Date</th>\n",
       "    </tr>\n",
       "  </thead>\n",
       "  <tbody>\n",
       "    <tr>\n",
       "      <th>0</th>\n",
       "      <td>Grand Island</td>\n",
       "      <td>40.9250</td>\n",
       "      <td>-98.3420</td>\n",
       "      <td>90.36</td>\n",
       "      <td>58</td>\n",
       "      <td>1</td>\n",
       "      <td>5.75</td>\n",
       "      <td>US</td>\n",
       "      <td>1627680884</td>\n",
       "    </tr>\n",
       "    <tr>\n",
       "      <th>1</th>\n",
       "      <td>Hong Kong</td>\n",
       "      <td>22.2855</td>\n",
       "      <td>114.1577</td>\n",
       "      <td>84.38</td>\n",
       "      <td>93</td>\n",
       "      <td>93</td>\n",
       "      <td>1.01</td>\n",
       "      <td>HK</td>\n",
       "      <td>1627680696</td>\n",
       "    </tr>\n",
       "    <tr>\n",
       "      <th>2</th>\n",
       "      <td>São Sebastião</td>\n",
       "      <td>-23.7600</td>\n",
       "      <td>-45.4097</td>\n",
       "      <td>54.28</td>\n",
       "      <td>73</td>\n",
       "      <td>87</td>\n",
       "      <td>3.56</td>\n",
       "      <td>BR</td>\n",
       "      <td>1627680680</td>\n",
       "    </tr>\n",
       "    <tr>\n",
       "      <th>3</th>\n",
       "      <td>Dongsheng</td>\n",
       "      <td>39.8161</td>\n",
       "      <td>109.9776</td>\n",
       "      <td>69.82</td>\n",
       "      <td>41</td>\n",
       "      <td>0</td>\n",
       "      <td>11.81</td>\n",
       "      <td>CN</td>\n",
       "      <td>1627680886</td>\n",
       "    </tr>\n",
       "    <tr>\n",
       "      <th>4</th>\n",
       "      <td>Vaini</td>\n",
       "      <td>-21.2000</td>\n",
       "      <td>-175.2000</td>\n",
       "      <td>73.56</td>\n",
       "      <td>94</td>\n",
       "      <td>90</td>\n",
       "      <td>8.05</td>\n",
       "      <td>TO</td>\n",
       "      <td>1627680886</td>\n",
       "    </tr>\n",
       "  </tbody>\n",
       "</table>\n",
       "</div>"
      ],
      "text/plain": [
       "            City      Lat       Lng  Max Temp  Humidity  Cloudiness  \\\n",
       "0   Grand Island  40.9250  -98.3420     90.36        58           1   \n",
       "1      Hong Kong  22.2855  114.1577     84.38        93          93   \n",
       "2  São Sebastião -23.7600  -45.4097     54.28        73          87   \n",
       "3      Dongsheng  39.8161  109.9776     69.82        41           0   \n",
       "4          Vaini -21.2000 -175.2000     73.56        94          90   \n",
       "\n",
       "   Wind Speed Country        Date  \n",
       "0        5.75      US  1627680884  \n",
       "1        1.01      HK  1627680696  \n",
       "2        3.56      BR  1627680680  \n",
       "3       11.81      CN  1627680886  \n",
       "4        8.05      TO  1627680886  "
      ]
     },
     "execution_count": 5,
     "metadata": {},
     "output_type": "execute_result"
    }
   ],
   "source": [
    "weather_df = pd.DataFrame({\n",
    "    'City': cities_name,\n",
    "    'Lat': cities_lat,\n",
    "    'Lng': cities_lng,\n",
    "    'Max Temp': cities_max_temp,\n",
    "    'Humidity': cities_humidity,\n",
    "    'Cloudiness': cities_cloudiness,\n",
    "    'Wind Speed': cities_wind_speed,\n",
    "    'Country': cities_country,\n",
    "    'Date':cities_date\n",
    "})\n",
    "weather_df.head(5)"
   ]
  },
  {
   "cell_type": "code",
   "execution_count": 6,
   "metadata": {},
   "outputs": [],
   "source": [
    "weather_df.to_csv('output_data/weather_df.csv')"
   ]
  },
  {
   "cell_type": "markdown",
   "metadata": {},
   "source": [
    "## Inspect the data and remove the cities where the humidity > 100%.\n",
    "----\n",
    "Skip this step if there are no cities that have humidity > 100%. "
   ]
  },
  {
   "cell_type": "code",
   "execution_count": 9,
   "metadata": {},
   "outputs": [
    {
     "name": "stdout",
     "output_type": "stream",
     "text": [
      "No cities with humidity levels above 100%.\n"
     ]
    }
   ],
   "source": [
    "# Method 1\n",
    "weather_df.loc[weather_df['Humidity'] > 100]\n",
    "\n",
    "# # Method 2\n",
    "humidity_df = weather_df['Humidity']\n",
    "humidity_df.max()\n",
    "\n",
    "print('No cities with humidity levels above 100%.')"
   ]
  },
  {
   "cell_type": "code",
   "execution_count": 10,
   "metadata": {},
   "outputs": [
    {
     "name": "stdout",
     "output_type": "stream",
     "text": [
      "No cities with humidity levels above 100%.\n"
     ]
    }
   ],
   "source": [
    "#  Get the indices of cities that have humidity over 100%.\n",
    "print('No cities with humidity levels above 100%.')"
   ]
  },
  {
   "cell_type": "code",
   "execution_count": 12,
   "metadata": {},
   "outputs": [
    {
     "name": "stdout",
     "output_type": "stream",
     "text": [
      "Humidity values below 14.375 could be outliers.\n",
      "Humidity values above 58.25 could be outliers.\n",
      "105    12\n",
      "248    14\n",
      "395    12\n",
      "Name: Humidity, dtype: int64\n"
     ]
    }
   ],
   "source": [
    "# Make a new DataFrame equal to the city data to drop all humidity outliers by index.\n",
    "# Passing \"inplace=False\" will make a copy of the city_data DataFrame, which we call \"clean_city_data\".\n",
    "indexed_weather_df = weather_df.set_index('City')\n",
    "\n",
    "humidity_df = weather_df['Humidity']\n",
    "quartiles = humidity_df.quantile(q=[0.25,0.5,0.75])\n",
    "lowerq = quartiles[0.25]\n",
    "upperq = quartiles[0.75]\n",
    "iqr = upperq - lowerq\n",
    "lower_bound = lowerq - (1.5 * iqr)\n",
    "upper_bound = upperq + (1.5 - iqr)\n",
    "\n",
    "print(f\"Humidity values below {lower_bound} could be outliers.\")\n",
    "print(f\"Humidity values above {upper_bound} could be outliers.\")\n",
    "\n",
    "print(humidity_df.loc[humidity_df < lower_bound])\n",
    "\n",
    "# Dropping indices of cities with extreme humidity levels\n",
    "clean_weather_df = weather_df.drop(index=[105, 248, 395])\n",
    "clean_weather_df = weather_df"
   ]
  },
  {
   "cell_type": "code",
   "execution_count": 13,
   "metadata": {},
   "outputs": [
    {
     "name": "stdout",
     "output_type": "stream",
     "text": [
      "                     Lat       Lng  Max Temp  Humidity  Cloudiness  \\\n",
      "City                                                                 \n",
      "Grand Island     40.9250  -98.3420     90.36        58           1   \n",
      "Hong Kong        22.2855  114.1577     84.38        93          93   \n",
      "São Sebastião   -23.7600  -45.4097     54.28        73          87   \n",
      "Dongsheng        39.8161  109.9776     69.82        41           0   \n",
      "Vaini           -21.2000 -175.2000     73.56        94          90   \n",
      "...                  ...       ...       ...       ...         ...   \n",
      "Marapanim        -0.7175  -47.6997     76.42        89          18   \n",
      "Seredka          58.1584   28.1858     62.35        74          96   \n",
      "Paamiut          61.9940  -49.6678     46.44        83         100   \n",
      "Aleksandrov Gay  50.1470   48.5704     80.85        27          93   \n",
      "Samarai         -10.6167  150.6667     79.77        76          95   \n",
      "\n",
      "                 Wind Speed Country        Date  \n",
      "City                                             \n",
      "Grand Island           5.75      US  1627680884  \n",
      "Hong Kong              1.01      HK  1627680696  \n",
      "São Sebastião          3.56      BR  1627680680  \n",
      "Dongsheng             11.81      CN  1627680886  \n",
      "Vaini                  8.05      TO  1627680886  \n",
      "...                     ...     ...         ...  \n",
      "Marapanim              4.18      BR  1627681238  \n",
      "Seredka               17.11      RU  1627681239  \n",
      "Paamiut                7.27      GL  1627681048  \n",
      "Aleksandrov Gay       10.63      RU  1627681240  \n",
      "Samarai               19.15      PG  1627681240  \n",
      "\n",
      "[588 rows x 8 columns]\n"
     ]
    }
   ],
   "source": [
    "# Extract relevant fields from the data frame\n",
    "print(clean_weather_df.set_index('City'))\n",
    "\n",
    "# Export the City_Data into a csv\n",
    "clean_weather_df.to_csv('output_data/clean_weather_df.csv')"
   ]
  },
  {
   "cell_type": "markdown",
   "metadata": {},
   "source": [
    "## Plotting the Data\n",
    "* Use proper labeling of the plots using plot titles (including date of analysis) and axes labels.\n",
    "* Save the plotted figures as .pngs."
   ]
  },
  {
   "cell_type": "markdown",
   "metadata": {},
   "source": [
    "## Latitude vs. Temperature Plot"
   ]
  },
  {
   "cell_type": "code",
   "execution_count": 14,
   "metadata": {},
   "outputs": [
    {
     "data": {
      "image/png": "[encoded data removed]",
      "text/plain": [
       "<Figure size 432x288 with 1 Axes>"
      ]
     },
     "metadata": {
      "needs_background": "light"
     },
     "output_type": "display_data"
    },
    {
     "data": {
      "text/plain": [
       "<Figure size 432x288 with 0 Axes>"
      ]
     },
     "metadata": {},
     "output_type": "display_data"
    }
   ],
   "source": [
    "plt.scatter(\n",
    "    x=clean_weather_df['Lat'],\n",
    "    y=clean_weather_df['Max Temp']\n",
    ")\n",
    "plt.title('City Latitude vs. Max Temperature')\n",
    "plt.xlabel('Latitude')\n",
    "plt.ylabel('Max Temperature (F)')\n",
    "plt.ylim(0)\n",
    "plt.grid(True)\n",
    "plt.show()\n",
    "\n",
    "plt.savefig('output_data/Temperature (F) vs. Latitude.png')"
   ]
  },
  {
   "cell_type": "code",
   "execution_count": 15,
   "metadata": {},
   "outputs": [
    {
     "name": "stdout",
     "output_type": "stream",
     "text": [
      "The closer we get to a latitude between 0-20 or the equator, the warmer temperatures we see.\n",
      "The further we go in either extremes, the colder temperatures we see.\n"
     ]
    }
   ],
   "source": [
    "print('The closer we get to a latitude between 0-20 or the equator, the warmer temperatures we see.')\n",
    "print('The further we go in either extremes, the colder temperatures we see.')"
   ]
  },
  {
   "cell_type": "markdown",
   "metadata": {},
   "source": [
    "## Latitude vs. Humidity Plot"
   ]
  },
  {
   "cell_type": "code",
   "execution_count": 16,
   "metadata": {},
   "outputs": [
    {
     "data": {
      "image/png": "[encoded data removed]",
      "text/plain": [
       "<Figure size 432x288 with 1 Axes>"
      ]
     },
     "metadata": {
      "needs_background": "light"
     },
     "output_type": "display_data"
    },
    {
     "data": {
      "text/plain": [
       "<Figure size 432x288 with 0 Axes>"
      ]
     },
     "metadata": {},
     "output_type": "display_data"
    }
   ],
   "source": [
    "plt.scatter(\n",
    "    x=clean_weather_df['Lat'],\n",
    "    y=clean_weather_df['Humidity']\n",
    ")\n",
    "plt.title('City Latitude vs. Humidity')\n",
    "plt.xlabel('Latitude')\n",
    "plt.ylabel('Humidity (%)')\n",
    "plt.ylim(0)\n",
    "plt.grid(True)\n",
    "plt.show()\n",
    "\n",
    "plt.savefig('output_data/Humidity (%) vs. Latitude.png')"
   ]
  },
  {
   "cell_type": "code",
   "execution_count": 17,
   "metadata": {},
   "outputs": [
    {
     "name": "stdout",
     "output_type": "stream",
     "text": [
      "We don't see a clear pattern in humidity as we get closer to the equator.\n"
     ]
    }
   ],
   "source": [
    "print(\"We don't see a clear pattern in humidity as we get closer to the equator.\")"
   ]
  },
  {
   "cell_type": "markdown",
   "metadata": {},
   "source": [
    "## Latitude vs. Cloudiness Plot"
   ]
  },
  {
   "cell_type": "code",
   "execution_count": 18,
   "metadata": {},
   "outputs": [
    {
     "data": {
      "image/png": "[encoded data removed]",
      "text/plain": [
       "<Figure size 432x288 with 1 Axes>"
      ]
     },
     "metadata": {
      "needs_background": "light"
     },
     "output_type": "display_data"
    },
    {
     "data": {
      "text/plain": [
       "<Figure size 432x288 with 0 Axes>"
      ]
     },
     "metadata": {},
     "output_type": "display_data"
    }
   ],
   "source": [
    "plt.scatter(\n",
    "    x=clean_weather_df['Lat'],\n",
    "    y=clean_weather_df['Cloudiness']\n",
    ")\n",
    "plt.title('City Latitude vs. Cloudiness')\n",
    "plt.xlabel('Latitude')\n",
    "plt.ylabel('Cloudiness (%)')\n",
    "plt.grid(True)\n",
    "plt.show()\n",
    "\n",
    "plt.savefig('output_data/Cloudiness (%) vs. Latitude.png')"
   ]
  },
  {
   "cell_type": "code",
   "execution_count": 19,
   "metadata": {},
   "outputs": [
    {
     "name": "stdout",
     "output_type": "stream",
     "text": [
      "No clear pattern between cloudiness and locations near the equator.\n"
     ]
    }
   ],
   "source": [
    "print('No clear pattern between cloudiness and locations near the equator.')"
   ]
  },
  {
   "cell_type": "markdown",
   "metadata": {},
   "source": [
    "## Latitude vs. Wind Speed Plot"
   ]
  },
  {
   "cell_type": "code",
   "execution_count": 20,
   "metadata": {},
   "outputs": [
    {
     "data": {
      "image/png": "[encoded data removed]",
      "text/plain": [
       "<Figure size 432x288 with 1 Axes>"
      ]
     },
     "metadata": {
      "needs_background": "light"
     },
     "output_type": "display_data"
    },
    {
     "data": {
      "text/plain": [
       "<Figure size 432x288 with 0 Axes>"
      ]
     },
     "metadata": {},
     "output_type": "display_data"
    }
   ],
   "source": [
    "plt.scatter(\n",
    "    x=clean_weather_df['Lat'],\n",
    "    y=clean_weather_df['Wind Speed']\n",
    ")\n",
    "plt.title('City Latitude vs. Wind Speed')\n",
    "plt.xlabel('Latitude')\n",
    "plt.ylabel('Wind Speed (mph)')\n",
    "plt.grid(True)\n",
    "plt.show()\n",
    "\n",
    "plt.savefig('output_Data/Wind Speed (mph) vs. Latitude.png')"
   ]
  },
  {
   "cell_type": "code",
   "execution_count": 21,
   "metadata": {},
   "outputs": [
    {
     "name": "stdout",
     "output_type": "stream",
     "text": [
      "There does not seem to be a clear correlation between location from the equator and wind speeds.\n"
     ]
    }
   ],
   "source": [
    "print('There does not seem to be a clear correlation between location from the equator and wind speeds.')"
   ]
  },
  {
   "cell_type": "markdown",
   "metadata": {},
   "source": [
    "## Linear Regression"
   ]
  },
  {
   "cell_type": "code",
   "execution_count": 22,
   "metadata": {},
   "outputs": [],
   "source": [
    "# OPTIONAL: Create a function to create Linear Regression plots\n",
    "def lin_reg_plt(x_axis,xaxis, y_axis,yaxis):\n",
    "    (slope, intercept, rvalue, pvalue, stderr) = linregress(x_axis, y_axis)\n",
    "    regress_values = x_axis * slope + intercept\n",
    "    line_eq = \"y = \" + str(round(slope,2)) + \"x + \" + str(round(intercept,2))\n",
    "\n",
    "    print(f\"The r-squared is: {rvalue}\")\n",
    "    print(f\"The linear equation is: {line_eq}\")\n",
    "    plt.scatter(x_axis,y_axis)\n",
    "    plt.plot(x_axis,regress_values,\"r-\")\n",
    "    plt.xlabel(xaxis)\n",
    "    plt.ylabel(yaxis)\n",
    "    plt.show()"
   ]
  },
  {
   "cell_type": "code",
   "execution_count": 23,
   "metadata": {},
   "outputs": [],
   "source": [
    "# Create Northern and Southern Hemisphere DataFrames\n",
    "north_hem_df = clean_weather_df.loc[clean_weather_df['Lat'] >= 0]\n",
    "south_hem_df = clean_weather_df.loc[clean_weather_df['Lat'] < 0]"
   ]
  },
  {
   "cell_type": "markdown",
   "metadata": {},
   "source": [
    "####  Northern Hemisphere - Max Temp vs. Latitude Linear Regression"
   ]
  },
  {
   "cell_type": "code",
   "execution_count": 24,
   "metadata": {},
   "outputs": [
    {
     "name": "stdout",
     "output_type": "stream",
     "text": [
      "The r-squared is: -0.6212568193216675\n",
      "The linear equation is: y = -0.48x + 91.12\n"
     ]
    },
    {
     "data": {
      "image/png": "[encoded data removed]",
      "text/plain": [
       "<Figure size 432x288 with 1 Axes>"
      ]
     },
     "metadata": {
      "needs_background": "light"
     },
     "output_type": "display_data"
    },
    {
     "data": {
      "text/plain": [
       "<Figure size 432x288 with 0 Axes>"
      ]
     },
     "metadata": {},
     "output_type": "display_data"
    }
   ],
   "source": [
    "x_axis = north_hem_df['Lat']\n",
    "y_axis = north_hem_df['Max Temp']\n",
    "\n",
    "lin_reg_plt(x_axis, 'Latitude', y_axis, 'Max Temp (F)')\n",
    "\n",
    "plt.savefig('output_data/Northern Hemisphere - Temperature (F) vs. Latitude.png')"
   ]
  },
  {
   "cell_type": "code",
   "execution_count": 25,
   "metadata": {},
   "outputs": [
    {
     "name": "stdout",
     "output_type": "stream",
     "text": [
      "We see a clear correlation that the further away we get from the equator, the colder the temperature.\n"
     ]
    }
   ],
   "source": [
    "print('We see a clear correlation that the further away we get from the equator, the colder the temperature.')"
   ]
  },
  {
   "cell_type": "markdown",
   "metadata": {},
   "source": [
    "####  Southern Hemisphere - Max Temp vs. Latitude Linear Regression"
   ]
  },
  {
   "cell_type": "code",
   "execution_count": 26,
   "metadata": {},
   "outputs": [
    {
     "name": "stdout",
     "output_type": "stream",
     "text": [
      "The r-squared is: 0.8207023971150215\n",
      "The linear equation is: y = 0.72x + 79.44\n"
     ]
    },
    {
     "data": {
      "image/png": "[encoded data removed]",
      "text/plain": [
       "<Figure size 432x288 with 1 Axes>"
      ]
     },
     "metadata": {
      "needs_background": "light"
     },
     "output_type": "display_data"
    },
    {
     "data": {
      "text/plain": [
       "<Figure size 432x288 with 0 Axes>"
      ]
     },
     "metadata": {},
     "output_type": "display_data"
    }
   ],
   "source": [
    "x_axis = south_hem_df['Lat']\n",
    "y_axis = south_hem_df['Max Temp']\n",
    "\n",
    "lin_reg_plt(x_axis, 'Latitude', y_axis, 'Max Temp (F)')\n",
    "\n",
    "plt.savefig('output_data/Southern Hemisphere - Temperature (F) vs. Latitude.png')"
   ]
  },
  {
   "cell_type": "code",
   "execution_count": 27,
   "metadata": {},
   "outputs": [
    {
     "name": "stdout",
     "output_type": "stream",
     "text": [
      "We see a clear correlation that the further away we get from the equator, the colder the temperature.\n"
     ]
    }
   ],
   "source": [
    "print('We see a clear correlation that the further away we get from the equator, the colder the temperature.')"
   ]
  },
  {
   "cell_type": "markdown",
   "metadata": {},
   "source": [
    "####  Northern Hemisphere - Humidity (%) vs. Latitude Linear Regression"
   ]
  },
  {
   "cell_type": "code",
   "execution_count": 28,
   "metadata": {},
   "outputs": [
    {
     "name": "stdout",
     "output_type": "stream",
     "text": [
      "The r-squared is: -0.07758317860859394\n",
      "The linear equation is: y = -0.09x + 72.67\n"
     ]
    },
    {
     "data": {
      "image/png": "[encoded data removed]",
      "text/plain": [
       "<Figure size 432x288 with 1 Axes>"
      ]
     },
     "metadata": {
      "needs_background": "light"
     },
     "output_type": "display_data"
    },
    {
     "data": {
      "text/plain": [
       "<Figure size 432x288 with 0 Axes>"
      ]
     },
     "metadata": {},
     "output_type": "display_data"
    }
   ],
   "source": [
    "x_axis = north_hem_df['Lat']\n",
    "y_axis = north_hem_df['Humidity']\n",
    "\n",
    "lin_reg_plt(x_axis, 'Latitude', y_axis, 'Humidity (%)')\n",
    "\n",
    "plt.savefig('output_data/Northern Hemisphere - Humidity (%) vs. Latitude.png')"
   ]
  },
  {
   "cell_type": "code",
   "execution_count": 29,
   "metadata": {},
   "outputs": [
    {
     "name": "stdout",
     "output_type": "stream",
     "text": [
      "There appears to be no direct relationship between location from the equator and humidity levels.\n"
     ]
    }
   ],
   "source": [
    "print('There appears to be no direct relationship between location from the equator and humidity levels.')"
   ]
  },
  {
   "cell_type": "markdown",
   "metadata": {},
   "source": [
    "####  Southern Hemisphere - Humidity (%) vs. Latitude Linear Regression"
   ]
  },
  {
   "cell_type": "code",
   "execution_count": 30,
   "metadata": {},
   "outputs": [
    {
     "name": "stdout",
     "output_type": "stream",
     "text": [
      "The r-squared is: -0.015392246937111212\n",
      "The linear equation is: y = -0.02x + 69.79\n"
     ]
    },
    {
     "data": {
      "image/png": "[encoded data removed]",
      "text/plain": [
       "<Figure size 432x288 with 1 Axes>"
      ]
     },
     "metadata": {
      "needs_background": "light"
     },
     "output_type": "display_data"
    },
    {
     "data": {
      "text/plain": [
       "<Figure size 432x288 with 0 Axes>"
      ]
     },
     "metadata": {},
     "output_type": "display_data"
    }
   ],
   "source": [
    "x_axis = south_hem_df['Lat']\n",
    "y_axis = south_hem_df['Humidity']\n",
    "\n",
    "lin_reg_plt(x_axis, 'Latitude', y_axis, 'Humidity (%)')\n",
    "\n",
    "plt.savefig('output_data/Southern Hemisphere - Humidity (%) vs. Latitude.png')"
   ]
  },
  {
   "cell_type": "code",
   "execution_count": 31,
   "metadata": {},
   "outputs": [
    {
     "name": "stdout",
     "output_type": "stream",
     "text": [
      "There appears to be no direct relationship between location from the equator and humidity levels, same as in the Northern Hemisphere.\n"
     ]
    }
   ],
   "source": [
    "print('There appears to be no direct relationship between location from the equator and humidity levels, same as in the Northern Hemisphere.')"
   ]
  },
  {
   "cell_type": "markdown",
   "metadata": {},
   "source": [
    "####  Northern Hemisphere - Cloudiness (%) vs. Latitude Linear Regression"
   ]
  },
  {
   "cell_type": "code",
   "execution_count": 32,
   "metadata": {},
   "outputs": [
    {
     "name": "stdout",
     "output_type": "stream",
     "text": [
      "The r-squared is: -0.10893769284434929\n",
      "The linear equation is: y = -0.22x + 62.29\n"
     ]
    },
    {
     "data": {
      "image/png": "[encoded data removed]",
      "text/plain": [
       "<Figure size 432x288 with 1 Axes>"
      ]
     },
     "metadata": {
      "needs_background": "light"
     },
     "output_type": "display_data"
    },
    {
     "data": {
      "text/plain": [
       "<Figure size 432x288 with 0 Axes>"
      ]
     },
     "metadata": {},
     "output_type": "display_data"
    }
   ],
   "source": [
    "x_axis = north_hem_df['Lat']\n",
    "y_axis = north_hem_df['Cloudiness']\n",
    "\n",
    "lin_reg_plt(x_axis, 'Latitude', y_axis, 'Cloudiness (%)')\n",
    "\n",
    "plt.savefig('output_data/Northern Hemisphere - Cloudiness (%) vs. Latitude.png')"
   ]
  },
  {
   "cell_type": "code",
   "execution_count": 33,
   "metadata": {},
   "outputs": [
    {
     "name": "stdout",
     "output_type": "stream",
     "text": [
      "We do not see a strong correlation between location from the equator and cloudiness levels.\n"
     ]
    }
   ],
   "source": [
    "print('We do not see a strong correlation between location from the equator and cloudiness levels.')"
   ]
  },
  {
   "cell_type": "markdown",
   "metadata": {},
   "source": [
    "####  Southern Hemisphere - Cloudiness (%) vs. Latitude Linear Regression"
   ]
  },
  {
   "cell_type": "code",
   "execution_count": 34,
   "metadata": {},
   "outputs": [
    {
     "name": "stdout",
     "output_type": "stream",
     "text": [
      "The r-squared is: 0.013036076822227067\n",
      "The linear equation is: y = 0.04x + 47.27\n"
     ]
    },
    {
     "data": {
      "image/png": "[encoded data removed]",
      "text/plain": [
       "<Figure size 432x288 with 1 Axes>"
      ]
     },
     "metadata": {
      "needs_background": "light"
     },
     "output_type": "display_data"
    },
    {
     "data": {
      "text/plain": [
       "<Figure size 432x288 with 0 Axes>"
      ]
     },
     "metadata": {},
     "output_type": "display_data"
    }
   ],
   "source": [
    "x_axis = south_hem_df['Lat']\n",
    "y_axis = south_hem_df['Cloudiness']\n",
    "\n",
    "lin_reg_plt(x_axis, 'Latitude', y_axis, 'Cloudiness (%)')\n",
    "\n",
    "plt.savefig('output_data/Southern Hemisphere - Cloudiness (%) vs. Latitude.png')"
   ]
  },
  {
   "cell_type": "code",
   "execution_count": 35,
   "metadata": {},
   "outputs": [
    {
     "name": "stdout",
     "output_type": "stream",
     "text": [
      "We do not see a strong correlation between location from the equator and cloudiness levels in the Southern Hemisphere as well.\n"
     ]
    }
   ],
   "source": [
    "print('We do not see a strong correlation between location from the equator and cloudiness levels in the Southern Hemisphere as well.')"
   ]
  },
  {
   "cell_type": "markdown",
   "metadata": {},
   "source": [
    "####  Northern Hemisphere - Wind Speed (mph) vs. Latitude Linear Regression"
   ]
  },
  {
   "cell_type": "code",
   "execution_count": 36,
   "metadata": {},
   "outputs": [
    {
     "name": "stdout",
     "output_type": "stream",
     "text": [
      "The r-squared is: -0.019487380590893028\n",
      "The linear equation is: y = -0.0x + 7.5\n"
     ]
    },
    {
     "data": {
      "image/png": "[encoded data removed]",
      "text/plain": [
       "<Figure size 432x288 with 1 Axes>"
      ]
     },
     "metadata": {
      "needs_background": "light"
     },
     "output_type": "display_data"
    },
    {
     "data": {
      "text/plain": [
       "<Figure size 432x288 with 0 Axes>"
      ]
     },
     "metadata": {},
     "output_type": "display_data"
    }
   ],
   "source": [
    "x_axis = north_hem_df['Lat']\n",
    "y_axis = north_hem_df['Wind Speed']\n",
    "\n",
    "lin_reg_plt(x_axis, 'Latitude', y_axis, 'Windiness (mph)')\n",
    "\n",
    "plt.savefig('output_data/Northern Hemisphere - Wind Speed (mph) vs. Latitude.png')"
   ]
  },
  {
   "cell_type": "code",
   "execution_count": 37,
   "metadata": {},
   "outputs": [
    {
     "name": "stdout",
     "output_type": "stream",
     "text": [
      "There appears to be no correlation between location from the equator and wind speeds.\n"
     ]
    }
   ],
   "source": [
    "print('There appears to be no correlation between location from the equator and wind speeds.')"
   ]
  },
  {
   "cell_type": "markdown",
   "metadata": {},
   "source": [
    "####  Southern Hemisphere - Wind Speed (mph) vs. Latitude Linear Regression"
   ]
  },
  {
   "cell_type": "code",
   "execution_count": 38,
   "metadata": {},
   "outputs": [
    {
     "name": "stdout",
     "output_type": "stream",
     "text": [
      "The r-squared is: -0.1608600255614901\n",
      "The linear equation is: y = -0.06x + 6.67\n"
     ]
    },
    {
     "data": {
      "image/png": "[encoded data removed]",
      "text/plain": [
       "<Figure size 432x288 with 1 Axes>"
      ]
     },
     "metadata": {
      "needs_background": "light"
     },
     "output_type": "display_data"
    },
    {
     "data": {
      "text/plain": [
       "<Figure size 432x288 with 0 Axes>"
      ]
     },
     "metadata": {},
     "output_type": "display_data"
    }
   ],
   "source": [
    "x_axis = south_hem_df['Lat']\n",
    "y_axis = south_hem_df['Wind Speed']\n",
    "\n",
    "lin_reg_plt(x_axis, 'Latitude', y_axis, 'Windiness (mph)')\n",
    "\n",
    "plt.savefig('output_data/Southern Hemisphere - Wind Speed (mph) vs. Latitude.png')"
   ]
  },
  {
   "cell_type": "code",
   "execution_count": 39,
   "metadata": {},
   "outputs": [
    {
     "name": "stdout",
     "output_type": "stream",
     "text": [
      "There appears to be little to no correlation between location from the equator and wind speeds.\n"
     ]
    }
   ],
   "source": [
    "print('There appears to be little to no correlation between location from the equator and wind speeds.')"
   ]
  }
 ],
 "metadata": {
  "anaconda-cloud": {},
  "kernel_info": {
   "name": "python3"
  },
  "kernelspec": {
   "display_name": "Python 3",
   "language": "python",
   "name": "python3"
  },
  "language_info": {
   "codemirror_mode": {
    "name": "ipython",
    "version": 3
   },
   "file_extension": ".py",
   "mimetype": "text/x-python",
   "name": "python",
   "nbconvert_exporter": "python",
   "pygments_lexer": "ipython3",
   "version": "3.8.8"
  },
  "latex_envs": {
   "LaTeX_envs_menu_present": true,
   "autoclose": false,
   "autocomplete": true,
   "bibliofile": "biblio.bib",
   "cite_by": "apalike",
   "current_citInitial": 1,
   "eqLabelWithNumbers": true,
   "eqNumInitial": 1,
   "hotkeys": {
    "equation": "Ctrl-E",
    "itemize": "Ctrl-I"
   },
   "labels_anchors": false,
   "latex_user_defs": false,
   "report_style_numbering": false,
   "user_envs_cfg": false
  },
  "nteract": {
   "version": "0.12.3"
  }
 },
 "nbformat": 4,
 "nbformat_minor": 2
}
